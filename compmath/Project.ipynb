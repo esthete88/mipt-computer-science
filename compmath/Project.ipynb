{
 "cells": [
  {
   "cell_type": "code",
   "execution_count": 1,
   "metadata": {},
   "outputs": [],
   "source": [
    "import numpy as np \n",
    "import scipy.linalg as sla\n",
    "import matplotlib.pyplot as plt\n",
    "\n",
    "%matplotlib inline"
   ]
  },
  {
   "cell_type": "markdown",
   "metadata": {},
   "source": [
    "# Проект по вычислительной математике, 6 семестр"
   ]
  },
  {
   "cell_type": "markdown",
   "metadata": {},
   "source": [
    "$\\dfrac{\\partial}{\\partial x}\\left(u \\dfrac{\\partial u}{\\partial x}\\right) + \\dfrac{\\partial}{\\partial y}\\left(u \\dfrac{\\partial u}{\\partial y}\\right) = -\\dfrac{\\pi^2}{4}\\sin\\dfrac{\\pi x}{2}\\sin\\dfrac{\\pi y}{2}$, $x \\in (0, 1)$, $y \\in (0, 1)$\n",
    "\n",
    "$u(0, y) = u(1, y) = u(x, 0) = u(x, 1) = 0$"
   ]
  },
  {
   "cell_type": "markdown",
   "metadata": {},
   "source": [
    "## Аналитическое решение"
   ]
  },
  {
   "cell_type": "markdown",
   "metadata": {},
   "source": [
    "Сделаем замену $v = u^2$. Тогда $v_{xx}+v_{yy}=-\\dfrac{\\pi^2}{2}\\sin\\dfrac{\\pi x}{2}\\sin\\dfrac{\\pi y}{2}$\n",
    "\n",
    "Будем искать решение в виде $v(x, y) = A\\sin\\dfrac{\\pi x}{2}\\sin\\dfrac{\\pi y}{2}$. Подстановка в исходное уравнение дает: \n",
    "\n",
    "$A\\left(-\\dfrac{\\pi^2}{4}-\\dfrac{\\pi^2}{4}\\right)\\sin\\dfrac{\\pi x}{2}\\sin\\dfrac{\\pi y}{2}=-\\dfrac{\\pi^2}{2}\\sin\\dfrac{\\pi x}{2}\\sin\\dfrac{\\pi y}{2}$\n",
    "\n",
    "Отсюда $A = 1$\n",
    "\n",
    "Таким образом, $v = \\sin\\dfrac{\\pi x}{2}\\sin\\dfrac{\\pi y}{2}$; $u = \\sqrt{\\sin\\dfrac{\\pi x}{2}\\sin\\dfrac{\\pi y}{2}}$. Граничные условия выполнены, значит, по теореме Коши это и есть единственно решение уравнения."
   ]
  },
  {
   "cell_type": "markdown",
   "metadata": {},
   "source": [
    "Сразу вычислим значения аналитического решения в узлах сетки с шагом $h=0.2$"
   ]
  },
  {
   "cell_type": "code",
   "execution_count": 191,
   "metadata": {},
   "outputs": [
    {
     "name": "stdout",
     "output_type": "stream",
     "text": [
      "[[0.         0.         0.         0.         0.         0.        ]\n",
      " [0.         0.30901699 0.42618732 0.5        0.54211865 0.55589297]\n",
      " [0.         0.42618732 0.58778525 0.68958557 0.74767439 0.76667154]\n",
      " [0.         0.5        0.68958557 0.80901699 0.87716639 0.89945372]\n",
      " [0.         0.54211865 0.74767439 0.87716639 0.95105652 0.97522127]\n",
      " [0.         0.55589297 0.76667154 0.89945372 0.97522127 1.        ]]\n"
     ]
    }
   ],
   "source": [
    "true_grid = np.zeros((size, size))\n",
    "\n",
    "for i in range(size):\n",
    "    for j in range(size):\n",
    "        true_grid[i][j] = np.sqrt(np.sin(np.pi * i * h / 2) * np.sin(np.pi * j * h / 2))\n",
    "        \n",
    "print(true_grid)"
   ]
  },
  {
   "cell_type": "markdown",
   "metadata": {},
   "source": [
    "## Метод простой итерации"
   ]
  },
  {
   "cell_type": "markdown",
   "metadata": {},
   "source": [
    "### Шаг 1. Построение разностной схемы"
   ]
  },
  {
   "cell_type": "markdown",
   "metadata": {},
   "source": [
    "Аппроксимируем производные по схеме \"крест\". Узловые точки: $u_{m,n}$, где $n, m \\in \\{0, 1, 2, ..., N\\}$, $N = \\frac{1}{h}$, $h$ - шаг сетки, одинаковый по обоим измерениям. "
   ]
  },
  {
   "cell_type": "markdown",
   "metadata": {},
   "source": [
    "$\\dfrac{\\partial}{\\partial x}\\left(u \\dfrac{\\partial u}{\\partial x}\\right) \\approx \\dfrac{1}{h}\\left(u_{m+0.5,n} \\cdot \\dfrac{u_{m+1,n} - u_{m,n}}{h} - u_{m-0.5,n} \\cdot \\dfrac{u_{m,n} - u_{m-1,n}}{h} \\right)$\n",
    "\n",
    "$\\dfrac{\\partial}{\\partial y}\\left(u \\dfrac{\\partial u}{\\partial y}\\right) \\approx \\dfrac{1}{h}\\left(u_{m,n+0.5} \\cdot \\dfrac{u_{m,n+1} - u_{m,n}}{h} - u_{m,n-0.5} \\cdot \\dfrac{u_{m,n} - u_{m,n-1}}{h} \\right)$"
   ]
  },
  {
   "cell_type": "markdown",
   "metadata": {},
   "source": [
    "Точки в половинных узлах аппроксимируем средним арифметическим значений в ближайших узлах. Например, $u_{m+0.5,n} = \\dfrac{u_{m,n} + u_{m+1,n}}{2}$. Тогда для производных получим:"
   ]
  },
  {
   "cell_type": "markdown",
   "metadata": {},
   "source": [
    "$\\dfrac{\\partial}{\\partial x}\\left(u \\dfrac{\\partial u}{\\partial x}\\right) \\approx \\dfrac{1}{2h^2}\\left(u_{m+1,n}^2 + u_{m-1,n}^2 - 2u_{m,n}^2 \\right)$\n",
    "\n",
    "$\\dfrac{\\partial}{\\partial y}\\left(u \\dfrac{\\partial u}{\\partial y}\\right) \\approx \\dfrac{1}{2h^2}\\left(u_{m,n+1}^2 + u_{m,n-1}^2 - 2u_{m,n}^2 \\right)$"
   ]
  },
  {
   "cell_type": "markdown",
   "metadata": {},
   "source": [
    "Разностная задача: \n",
    "    \n",
    "$ \\dfrac{1}{2h^2}\\left(u_{m+1,n}^2 + u_{m-1,n}^2 - 2u_{m,n}^2 \\right) + \\dfrac{1}{2h^2}\\left(u_{m,n+1}^2 + u_{m,n-1}^2 - 2u_{m,n}^2 \\right) = -\\dfrac{\\pi^2}{4}\\sin\\dfrac{\\pi x_m}{2}\\sin\\dfrac{\\pi y_n}{2}$\n",
    "\n",
    "Здесь $x_m = hm$, $y_n = hn$.\n",
    "\n",
    "$u_{m, 0} = u_{0, n} = 0;\\quad u_{m, N} = \\sqrt{\\sin\\dfrac{\\pi x_m}{2}};\\quad u_{N, n} = \\sqrt{\\sin\\dfrac{\\pi y_n}{2}}$ \n",
    "для любых допустимых значений $m$ и $n$."
   ]
  },
  {
   "cell_type": "markdown",
   "metadata": {},
   "source": [
    "### Шаг 2. Постановка нестационарной задачи"
   ]
  },
  {
   "cell_type": "markdown",
   "metadata": {},
   "source": [
    "Вместо стационарной рассмотрим нестационарную задачу: \n",
    "\n",
    "$\\dfrac{\\partial u}{\\partial t} = \\dfrac{\\partial}{\\partial x}\\left(u \\dfrac{\\partial u}{\\partial x}\\right) + \\dfrac{\\partial}{\\partial y}\\left(u \\dfrac{\\partial u}{\\partial y}\\right) + \\dfrac{\\pi^2}{4}\\sin\\dfrac{\\pi x}{2}\\sin\\dfrac{\\pi y}{2}$\n",
    "\n",
    "Ее решение при достаточно большом $t$ сходится к решению нестационарной задачи. \n",
    "\n",
    "Решим нестационарную задачу $\\textbf{методом простых итераций}$. Для этого аппроксимируем производную по времени: \n",
    "\n",
    "$\\dfrac{\\partial u}{\\partial t} = \\dfrac{u^{s+1} - u^s}{\\tau}$\n",
    "\n",
    "Здесь $s$ - узел сетки по времени и одновременно порядок итерации, $\\tau$ - временной шаг."
   ]
  },
  {
   "cell_type": "markdown",
   "metadata": {},
   "source": [
    "Таким образом, нестационарная разностная задача:\n",
    "    \n",
    "$\\dfrac{u^{s+1}_{m,n} - u^s_{m,n}}{\\tau} = \\dfrac{1}{2h^2}\\left((u^s_{m+1,n})^2 + (u^s_{m-1,n})^2 - 2(u^s_{m,n})^2 \\right) + \\dfrac{1}{2h^2}\\left((u^s_{m,n+1})^2 + (u^s_{m,n-1})^2 - 2(u^s_{m,n})^2 \\right) + \\dfrac{\\pi^2}{4}\\sin\\dfrac{\\pi x_m}{2}\\sin\\dfrac{\\pi y_n}{2}$\n",
    "\n",
    "$u_{m, 0} = u_{0, n} = 0;\\quad u_{m, N} = \\sqrt{\\sin\\dfrac{\\pi x_m}{2}};\\quad u_{N, n} = \\sqrt{\\sin\\dfrac{\\pi y_n}{2}}$ \n",
    "для любых допустимых значений $m$ и $n$."
   ]
  },
  {
   "cell_type": "markdown",
   "metadata": {},
   "source": [
    "Апдейт на одной итерации в узле $(m,n)$:\n",
    "\n",
    "$u^{s+1}_{m,n} = u^s_{m,n} + \\dfrac{\\pi^2}{4}\\sin\\dfrac{\\pi x_m}{2}\\sin\\dfrac{\\pi y_n}{2} + \\dfrac{\\tau}{2h^2}\\left((u^s_{m-1,n})^2 + (u^s_{m+1,n})^2 + (u^s_{m,n-1})^2 + (u^s_{m,n+1})^2 - 4(u^s_{m,n})^2 \\right)$"
   ]
  },
  {
   "cell_type": "markdown",
   "metadata": {},
   "source": [
    "### Шаг 3. Реализация алгоритма"
   ]
  },
  {
   "cell_type": "markdown",
   "metadata": {},
   "source": [
    "Шаг сетки выберем равным $h = 0.2$. "
   ]
  },
  {
   "cell_type": "markdown",
   "metadata": {},
   "source": [
    "Вычислим $\\lambda_{min}$ и $\\lambda_{max}$ - минимальное и максимальное собственные значения оператора Лапласа. В дальнейшем они будут использованы для выбора $\\tau$ и количества итераций метода:\n",
    "\n",
    "$\\lambda_{min} = 2\\pi^2$, $\\lambda_{max} = \\dfrac{8}{h^2} - 2\\pi^2$"
   ]
  },
  {
   "cell_type": "markdown",
   "metadata": {},
   "source": [
    "Метод простых итераций сходится, если выполнено условие: $\\tau < \\dfrac{2}{\\lambda_{max}}$."
   ]
  },
  {
   "cell_type": "markdown",
   "metadata": {},
   "source": [
    "Выберем $\\tau = \\dfrac{2}{\\lambda_{min} + \\lambda_{max}}$."
   ]
  },
  {
   "cell_type": "code",
   "execution_count": 199,
   "metadata": {},
   "outputs": [],
   "source": [
    "h = 0.2\n",
    "lambda_min = 2 * np.pi ** 2\n",
    "lambda_max = (8 / h ** 2) - 2 * np.pi\n",
    "tau = 2 / (lambda_min + lambda_max)"
   ]
  },
  {
   "cell_type": "code",
   "execution_count": 200,
   "metadata": {},
   "outputs": [],
   "source": [
    "def rhs(m, n):\n",
    "    ''' Calculates the RHS of the equation in the point (m, n) '''\n",
    "    return -np.pi ** 2 / 4 * np.sin(np.pi * h * m / 2) * np.sin(np.pi * h * n / 2)"
   ]
  },
  {
   "cell_type": "code",
   "execution_count": 204,
   "metadata": {},
   "outputs": [],
   "source": [
    "def simple_iter_update(prev_grid, m, n):\n",
    "    ''' Updates the value in the point (m, n) according to the simple iteration method '''\n",
    "    combination = (prev_grid[m - 1][n]) ** 2 + \\\n",
    "                  (prev_grid[m + 1][n]) ** 2 + \\\n",
    "                  (prev_grid[m][n - 1]) ** 2 + \\\n",
    "                  (prev_grid[m][n + 1]) ** 2 - \\\n",
    "                  4 * (prev_grid[m][n]) ** 2\n",
    "    return prev_grid[m][n] - tau * rhs(m, n) + (tau / (2 * h ** 2)) * combination"
   ]
  },
  {
   "cell_type": "code",
   "execution_count": 222,
   "metadata": {},
   "outputs": [],
   "source": [
    "def solve(update_func, tau=tau, h=h, tol=1e-4, max_iter=1000):\n",
    "    ''' Solves given equation using an update function update_func '''\n",
    "    size = int(1 / h + 1)\n",
    "    prev_grid = np.zeros((size, size))\n",
    "\n",
    "    # зададим граничные условия\n",
    "    for i in range(size):\n",
    "        prev_grid[i][size - 1] = np.sqrt(np.sin(np.pi * h * i / 2))\n",
    "        prev_grid[size - 1][i] = np.sqrt(np.sin(np.pi * h * i / 2))\n",
    "\n",
    "    for _ in range(max_iter):\n",
    "        cur_grid = np.zeros((size, size))\n",
    "        \n",
    "        for i in range(size):\n",
    "            cur_grid[i][size - 1] = np.sqrt(np.sin(np.pi * h * i / 2))\n",
    "            cur_grid[size - 1][i] = np.sqrt(np.sin(np.pi * h * i / 2))\n",
    "\n",
    "        for row in range(1, size - 1):\n",
    "            for col in range(1, size - 1):\n",
    "                cur_grid[row][col] = update_func(prev_grid, row, col)\n",
    "        \n",
    "        if (sla.norm(cur_grid - prev_grid) < tol):\n",
    "            break\n",
    "        prev_grid = cur_grid\n",
    "\n",
    "    return cur_grid"
   ]
  },
  {
   "cell_type": "code",
   "execution_count": 209,
   "metadata": {
    "scrolled": true
   },
   "outputs": [
    {
     "name": "stdout",
     "output_type": "stream",
     "text": [
      "[[0.         0.         0.         0.         0.         0.        ]\n",
      " [0.         0.30923671 0.42658638 0.50047858 0.54249953 0.55589297]\n",
      " [0.         0.42658638 0.58839733 0.69027185 0.74820575 0.76667154]\n",
      " [0.         0.50047858 0.69027185 0.80976402 0.87774192 0.89945372]\n",
      " [0.         0.54249953 0.74820575 0.87774192 0.9515094  0.97522127]\n",
      " [0.         0.55589297 0.76667154 0.89945372 0.97522127 1.        ]]\n"
     ]
    }
   ],
   "source": [
    "simple_iter_grid = solve(simple_iter_update)\n",
    "print(simple_iter_grid)"
   ]
  },
  {
   "cell_type": "markdown",
   "metadata": {},
   "source": [
    "## Метод Якоби"
   ]
  },
  {
   "cell_type": "markdown",
   "metadata": {},
   "source": [
    "### Шаг 1. Постановка разностной задачи"
   ]
  },
  {
   "cell_type": "markdown",
   "metadata": {},
   "source": [
    "Рассмотрим разностную задачу:\n",
    "\n",
    "$\\dfrac{1}{2h^2}\\left((u^s_{m+1,n})^2 + (u^s_{m-1,n})^2 - 2(u^{s+1}_{m,n})^2 \\right) + \\dfrac{1}{2h^2}\\left((u^s_{m,n+1})^2 + (u^s_{m,n-1})^2 - 2(u^{s+1}_{m,n})^2 \\right) = - \\dfrac{\\pi^2}{4}\\sin\\dfrac{\\pi x_m}{2}\\sin\\dfrac{\\pi y_n}{2}$\n",
    "\n",
    "Выразив новое значение в узле, получаем:\n",
    "\n",
    "$(u^{s+1}_{m,n})^2 = \\dfrac{h^2}{2} \\dfrac{\\pi^2}{4}\\sin\\dfrac{\\pi x_m}{2}\\sin\\dfrac{\\pi y_n}{2}+ \\dfrac{1}{4}\\left((u^s_{m-1,n})^2 + (u^s_{m+1,n})^2 + (u^s_{m,n-1})^2 + (u^s_{m,n+1})^2\\right)$"
   ]
  },
  {
   "cell_type": "markdown",
   "metadata": {},
   "source": [
    "### Шаг 2. Реализация алгоритма"
   ]
  },
  {
   "cell_type": "code",
   "execution_count": 223,
   "metadata": {},
   "outputs": [],
   "source": [
    "def jacobi_update(prev_grid, m, n):\n",
    "    ''' Updates the value in the point (m, n) according to the Jacobi method '''\n",
    "    combination = (prev_grid[m - 1][n]) ** 2 + \\\n",
    "                  (prev_grid[m + 1][n]) ** 2 + \\\n",
    "                  (prev_grid[m][n - 1]) ** 2 + \\\n",
    "                  (prev_grid[m][n + 1]) ** 2\n",
    "    return np.sqrt(combination / 4 - h ** 2 / 2 * rhs(m, n))"
   ]
  },
  {
   "cell_type": "code",
   "execution_count": 215,
   "metadata": {},
   "outputs": [
    {
     "name": "stdout",
     "output_type": "stream",
     "text": [
      "[[0.         0.         0.         0.         0.         0.        ]\n",
      " [0.         0.30945966 0.42676433 0.50058984 0.54254975 0.55589297]\n",
      " [0.         0.42676433 0.58854255 0.69035894 0.74824537 0.76667154]\n",
      " [0.         0.50058984 0.69035894 0.80981617 0.87776354 0.89945372]\n",
      " [0.         0.54254975 0.74824537 0.87776354 0.9515185  0.97522127]\n",
      " [0.         0.55589297 0.76667154 0.89945372 0.97522127 1.        ]]\n"
     ]
    }
   ],
   "source": [
    "jacobi_grid = solve(jacobi_update)\n",
    "print(jacobi_grid)"
   ]
  },
  {
   "cell_type": "markdown",
   "metadata": {},
   "source": [
    "## Сравнение численных и аналитических методов"
   ]
  },
  {
   "cell_type": "markdown",
   "metadata": {},
   "source": [
    "Вычислим нормы невязок для каждого из методов:"
   ]
  },
  {
   "cell_type": "code",
   "execution_count": 219,
   "metadata": {},
   "outputs": [
    {
     "name": "stdout",
     "output_type": "stream",
     "text": [
      "Метод простой итерации:\t0.002103\n",
      "Метод Якоби:\t\t0.002432\n"
     ]
    }
   ],
   "source": [
    "print('Метод простой итерации:\\t{0:.6f}'.format(sla.norm(true_grid - simple_iter_grid)))\n",
    "print('Метод Якоби:\\t\\t{0:.6f}'.format(sla.norm(true_grid - jacobi_grid)))"
   ]
  },
  {
   "cell_type": "markdown",
   "metadata": {},
   "source": [
    "## Список литературы"
   ]
  },
  {
   "cell_type": "markdown",
   "metadata": {},
   "source": [
    "[1] Аристова Е.Н., Лобанов А.И. Практические занятия по вычислительной математике в МФТИ. Часть II. - М.: МФТИ, 2015. - 310 с"
   ]
  }
 ],
 "metadata": {
  "kernelspec": {
   "display_name": "Python 3",
   "language": "python",
   "name": "python3"
  },
  "language_info": {
   "codemirror_mode": {
    "name": "ipython",
    "version": 3
   },
   "file_extension": ".py",
   "mimetype": "text/x-python",
   "name": "python",
   "nbconvert_exporter": "python",
   "pygments_lexer": "ipython3",
   "version": "3.6.4"
  }
 },
 "nbformat": 4,
 "nbformat_minor": 2
}
